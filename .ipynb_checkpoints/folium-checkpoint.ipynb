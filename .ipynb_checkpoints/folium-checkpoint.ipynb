{
 "cells": [
  {
   "cell_type": "code",
   "execution_count": 1,
   "id": "03f6716e-65eb-41a8-bda5-9f084bcfd27e",
   "metadata": {
    "tags": []
   },
   "outputs": [
    {
     "name": "stdout",
     "output_type": "stream",
     "text": [
      "Collecting folium\n",
      "  Downloading folium-0.14.0-py2.py3-none-any.whl (102 kB)\n",
      "\u001b[2K     \u001b[90m━━━━━━━━━━━━━━━━━━━━━━━━━━━━━━━━━━━━━\u001b[0m \u001b[32m102.3/102.3 kB\u001b[0m \u001b[31m139.4 kB/s\u001b[0m eta \u001b[36m0:00:00\u001b[0ma \u001b[36m0:00:01\u001b[0m\n",
      "\u001b[?25hRequirement already satisfied: requests in /home/vtn_ubuntu/virtualenv/data_visualization/lib/python3.8/site-packages (from folium) (2.28.2)\n",
      "Collecting branca>=0.6.0\n",
      "  Downloading branca-0.6.0-py3-none-any.whl (24 kB)\n",
      "Requirement already satisfied: numpy in /home/vtn_ubuntu/virtualenv/data_visualization/lib/python3.8/site-packages (from folium) (1.24.2)\n",
      "Requirement already satisfied: jinja2>=2.9 in /home/vtn_ubuntu/virtualenv/data_visualization/lib/python3.8/site-packages (from folium) (3.1.2)\n",
      "Requirement already satisfied: MarkupSafe>=2.0 in /home/vtn_ubuntu/virtualenv/data_visualization/lib/python3.8/site-packages (from jinja2>=2.9->folium) (2.1.2)\n",
      "Requirement already satisfied: certifi>=2017.4.17 in /home/vtn_ubuntu/virtualenv/data_visualization/lib/python3.8/site-packages (from requests->folium) (2022.12.7)\n",
      "Requirement already satisfied: charset-normalizer<4,>=2 in /home/vtn_ubuntu/virtualenv/data_visualization/lib/python3.8/site-packages (from requests->folium) (3.1.0)\n",
      "Requirement already satisfied: idna<4,>=2.5 in /home/vtn_ubuntu/virtualenv/data_visualization/lib/python3.8/site-packages (from requests->folium) (3.4)\n",
      "Requirement already satisfied: urllib3<1.27,>=1.21.1 in /home/vtn_ubuntu/virtualenv/data_visualization/lib/python3.8/site-packages (from requests->folium) (1.26.15)\n",
      "Installing collected packages: branca, folium\n",
      "Successfully installed branca-0.6.0 folium-0.14.0\n"
     ]
    }
   ],
   "source": [
    "# !pip install folium"
   ]
  },
  {
   "cell_type": "code",
   "execution_count": 1,
   "id": "8f9a6b29-0df0-4dde-b9ce-55553d742930",
   "metadata": {
    "tags": []
   },
   "outputs": [],
   "source": [
    "import pandas as pd\n",
    "import folium"
   ]
  },
  {
   "cell_type": "code",
   "execution_count": null,
   "id": "99b2a3b4-d988-44b1-8f5a-89beb6709761",
   "metadata": {},
   "outputs": [],
   "source": []
  },
  {
   "cell_type": "code",
   "execution_count": 2,
   "id": "8a6a4b66-1104-4f0c-af8c-332449c762f9",
   "metadata": {
    "tags": []
   },
   "outputs": [],
   "source": [
    "# read data from online csv file\n",
    "location = \"https://data.smartdublin.ie/dataset/33ec9fe2-4957-4e9a-ab55-c5e917c7a9ab/resource/2dec86ed-76ed-47a3-ae28-646db5c5b965/download/dublin.csv\""
   ]
  },
  {
   "cell_type": "code",
   "execution_count": 3,
   "id": "b8627af1-02c9-4d30-a9d1-b8fa61393501",
   "metadata": {
    "tags": []
   },
   "outputs": [],
   "source": [
    "# turn into dataframe\n",
    "bike_station_locations = pd.read_csv(location)"
   ]
  },
  {
   "cell_type": "code",
   "execution_count": 4,
   "id": "6fc6d3ae-097c-464b-9e24-225e898e7489",
   "metadata": {
    "tags": []
   },
   "outputs": [
    {
     "data": {
      "text/html": [
       "<div>\n",
       "<style scoped>\n",
       "    .dataframe tbody tr th:only-of-type {\n",
       "        vertical-align: middle;\n",
       "    }\n",
       "\n",
       "    .dataframe tbody tr th {\n",
       "        vertical-align: top;\n",
       "    }\n",
       "\n",
       "    .dataframe thead th {\n",
       "        text-align: right;\n",
       "    }\n",
       "</style>\n",
       "<table border=\"1\" class=\"dataframe\">\n",
       "  <thead>\n",
       "    <tr style=\"text-align: right;\">\n",
       "      <th></th>\n",
       "      <th>Number</th>\n",
       "      <th>Name</th>\n",
       "      <th>Address</th>\n",
       "      <th>Latitude</th>\n",
       "      <th>Longitude</th>\n",
       "    </tr>\n",
       "  </thead>\n",
       "  <tbody>\n",
       "    <tr>\n",
       "      <th>0</th>\n",
       "      <td>42</td>\n",
       "      <td>SMITHFIELD NORTH</td>\n",
       "      <td>Smithfield North</td>\n",
       "      <td>53.349562</td>\n",
       "      <td>-6.278198</td>\n",
       "    </tr>\n",
       "    <tr>\n",
       "      <th>1</th>\n",
       "      <td>30</td>\n",
       "      <td>PARNELL SQUARE NORTH</td>\n",
       "      <td>Parnell Square North</td>\n",
       "      <td>53.353462</td>\n",
       "      <td>-6.265305</td>\n",
       "    </tr>\n",
       "    <tr>\n",
       "      <th>2</th>\n",
       "      <td>54</td>\n",
       "      <td>CLONMEL STREET</td>\n",
       "      <td>Clonmel Street</td>\n",
       "      <td>53.336021</td>\n",
       "      <td>-6.262980</td>\n",
       "    </tr>\n",
       "    <tr>\n",
       "      <th>3</th>\n",
       "      <td>108</td>\n",
       "      <td>AVONDALE ROAD</td>\n",
       "      <td>Avondale Road</td>\n",
       "      <td>53.359405</td>\n",
       "      <td>-6.276142</td>\n",
       "    </tr>\n",
       "    <tr>\n",
       "      <th>4</th>\n",
       "      <td>56</td>\n",
       "      <td>MOUNT STREET LOWER</td>\n",
       "      <td>Mount Street Lower</td>\n",
       "      <td>53.337960</td>\n",
       "      <td>-6.241530</td>\n",
       "    </tr>\n",
       "  </tbody>\n",
       "</table>\n",
       "</div>"
      ],
      "text/plain": [
       "   Number                  Name               Address   Latitude  Longitude\n",
       "0      42      SMITHFIELD NORTH      Smithfield North  53.349562  -6.278198\n",
       "1      30  PARNELL SQUARE NORTH  Parnell Square North  53.353462  -6.265305\n",
       "2      54        CLONMEL STREET        Clonmel Street  53.336021  -6.262980\n",
       "3     108         AVONDALE ROAD         Avondale Road  53.359405  -6.276142\n",
       "4      56    MOUNT STREET LOWER    Mount Street Lower  53.337960  -6.241530"
      ]
     },
     "execution_count": 4,
     "metadata": {},
     "output_type": "execute_result"
    }
   ],
   "source": [
    "bike_station_locations.head()"
   ]
  },
  {
   "cell_type": "code",
   "execution_count": null,
   "id": "e5755ba6-82ff-4239-907c-5cd29375d830",
   "metadata": {},
   "outputs": [],
   "source": []
  },
  {
   "cell_type": "code",
   "execution_count": 5,
   "id": "435678c5-315b-4c78-b7f3-d3f0f1410410",
   "metadata": {
    "tags": []
   },
   "outputs": [],
   "source": [
    "map = folium.Map(location=[bike_station_locations.Latitude.mean(), bike_station_locations.Longitude.mean()], zoom_start=14, control_scale=True)"
   ]
  },
  {
   "cell_type": "code",
   "execution_count": 6,
   "id": "f1d98035-9f24-4419-b5ea-5cc201666f43",
   "metadata": {
    "tags": []
   },
   "outputs": [
    {
     "data": {
      "text/plain": [
       "['__class__',\n",
       " '__delattr__',\n",
       " '__dict__',\n",
       " '__dir__',\n",
       " '__doc__',\n",
       " '__eq__',\n",
       " '__format__',\n",
       " '__ge__',\n",
       " '__getattribute__',\n",
       " '__getstate__',\n",
       " '__gt__',\n",
       " '__hash__',\n",
       " '__init__',\n",
       " '__init_subclass__',\n",
       " '__le__',\n",
       " '__lt__',\n",
       " '__module__',\n",
       " '__ne__',\n",
       " '__new__',\n",
       " '__reduce__',\n",
       " '__reduce_ex__',\n",
       " '__repr__',\n",
       " '__setattr__',\n",
       " '__setstate__',\n",
       " '__sizeof__',\n",
       " '__str__',\n",
       " '__subclasshook__',\n",
       " '__weakref__',\n",
       " '_children',\n",
       " '_env',\n",
       " '_get_self_bounds',\n",
       " '_id',\n",
       " '_name',\n",
       " '_parent',\n",
       " '_png_image',\n",
       " '_repr_html_',\n",
       " '_repr_png_',\n",
       " '_template',\n",
       " '_to_png',\n",
       " 'add_child',\n",
       " 'add_children',\n",
       " 'add_to',\n",
       " 'choropleth',\n",
       " 'control_scale',\n",
       " 'crs',\n",
       " 'default_css',\n",
       " 'default_js',\n",
       " 'fit_bounds',\n",
       " 'get_bounds',\n",
       " 'get_name',\n",
       " 'get_root',\n",
       " 'global_switches',\n",
       " 'height',\n",
       " 'keep_in_front',\n",
       " 'left',\n",
       " 'location',\n",
       " 'objects_to_stay_in_front',\n",
       " 'options',\n",
       " 'png_enabled',\n",
       " 'position',\n",
       " 'render',\n",
       " 'save',\n",
       " 'show_in_browser',\n",
       " 'to_dict',\n",
       " 'to_json',\n",
       " 'top',\n",
       " 'width']"
      ]
     },
     "execution_count": 6,
     "metadata": {},
     "output_type": "execute_result"
    }
   ],
   "source": [
    "dir(map)"
   ]
  },
  {
   "cell_type": "code",
   "execution_count": 7,
   "id": "1bbb3344-d738-4d86-970b-25f2e6b2e799",
   "metadata": {
    "tags": []
   },
   "outputs": [
    {
     "name": "stdout",
     "output_type": "stream",
     "text": [
      "Your map should have been opened in your browser automatically.\n",
      "Press ctrl+c to return.\n"
     ]
    },
    {
     "name": "stderr",
     "output_type": "stream",
     "text": [
      "Use of uninitialized value $file in open at /usr/share/perl5/File/MimeInfo/Applications.pm line 140.\n",
      "Use of uninitialized value $file in open at /usr/share/perl5/File/MimeInfo/Applications.pm line 140.\n",
      "Use of uninitialized value $file in open at /usr/share/perl5/File/MimeInfo/Applications.pm line 140.\n",
      "Use of uninitialized value $file in open at /usr/share/perl5/File/MimeInfo/Applications.pm line 140.\n",
      "Use of uninitialized value in subroutine entry at /usr/share/perl5/File/BaseDir.pm line 105.\n",
      "Use of uninitialized value in subroutine entry at /usr/share/perl5/File/BaseDir.pm line 105.\n",
      "Use of uninitialized value in subroutine entry at /usr/share/perl5/File/BaseDir.pm line 105.\n",
      "Use of uninitialized value in subroutine entry at /usr/share/perl5/File/BaseDir.pm line 105.\n",
      "Use of uninitialized value $file in open at /usr/share/perl5/File/MimeInfo/Applications.pm line 140.\n",
      "Use of uninitialized value $file in open at /usr/share/perl5/File/MimeInfo/Applications.pm line 140.\n",
      "Use of uninitialized value in subroutine entry at /usr/share/perl5/File/BaseDir.pm line 105.\n",
      "Use of uninitialized value in subroutine entry at /usr/share/perl5/File/BaseDir.pm line 105.\n",
      "Use of uninitialized value in subroutine entry at /usr/share/perl5/File/BaseDir.pm line 105.\n",
      "Use of uninitialized value in subroutine entry at /usr/share/perl5/File/BaseDir.pm line 105.\n",
      "Use of uninitialized value $file in open at /usr/share/perl5/File/MimeInfo/Applications.pm line 140.\n",
      "Use of uninitialized value $file in open at /usr/share/perl5/File/MimeInfo/Applications.pm line 140.\n",
      "Use of uninitialized value in subroutine entry at /usr/share/perl5/File/BaseDir.pm line 105.\n",
      "Use of uninitialized value in subroutine entry at /usr/share/perl5/File/BaseDir.pm line 105.\n",
      "Use of uninitialized value in subroutine entry at /usr/share/perl5/File/BaseDir.pm line 105.\n",
      "Use of uninitialized value in subroutine entry at /usr/share/perl5/File/BaseDir.pm line 105.\n"
     ]
    },
    {
     "name": "stdout",
     "output_type": "stream",
     "text": [
      "Opening \"/tmp/folium_y1yroowi.html\" with Microsoft Edge (dev)  (text/html)\n",
      "Opening in existing browser session.\n"
     ]
    }
   ],
   "source": [
    "map.show_in_browser()"
   ]
  },
  {
   "cell_type": "code",
   "execution_count": null,
   "id": "527f1eea-e130-4d80-8602-878cc7dcfa12",
   "metadata": {},
   "outputs": [],
   "source": []
  },
  {
   "cell_type": "code",
   "execution_count": 11,
   "id": "a193b22f-639c-44cd-8376-317e9b6e8cd2",
   "metadata": {
    "tags": []
   },
   "outputs": [],
   "source": [
    "num = 10\n",
    "random_points = bike_station_locations.sample(n= num)"
   ]
  },
  {
   "cell_type": "code",
   "execution_count": 12,
   "id": "ab16b07b-3017-4165-bc4a-d27754ca56d5",
   "metadata": {
    "tags": []
   },
   "outputs": [
    {
     "name": "stdout",
     "output_type": "stream",
     "text": [
      "<class 'pandas.core.frame.DataFrame'>\n",
      "Int64Index: 10 entries, 28 to 50\n",
      "Data columns (total 5 columns):\n",
      " #   Column     Non-Null Count  Dtype  \n",
      "---  ------     --------------  -----  \n",
      " 0   Number     10 non-null     int64  \n",
      " 1   Name       10 non-null     object \n",
      " 2   Address    10 non-null     object \n",
      " 3   Latitude   10 non-null     float64\n",
      " 4   Longitude  10 non-null     float64\n",
      "dtypes: float64(2), int64(1), object(2)\n",
      "memory usage: 480.0+ bytes\n"
     ]
    }
   ],
   "source": [
    "random_points.info()"
   ]
  },
  {
   "cell_type": "code",
   "execution_count": 13,
   "id": "0f0bdbc8-0eb2-4064-9e10-e3ee50bcb559",
   "metadata": {
    "tags": []
   },
   "outputs": [
    {
     "name": "stdout",
     "output_type": "stream",
     "text": [
      "<class 'pandas.core.frame.DataFrame'>\n",
      "RangeIndex: 110 entries, 0 to 109\n",
      "Data columns (total 5 columns):\n",
      " #   Column     Non-Null Count  Dtype  \n",
      "---  ------     --------------  -----  \n",
      " 0   Number     110 non-null    int64  \n",
      " 1   Name       110 non-null    object \n",
      " 2   Address    110 non-null    object \n",
      " 3   Latitude   110 non-null    float64\n",
      " 4   Longitude  110 non-null    float64\n",
      "dtypes: float64(2), int64(1), object(2)\n",
      "memory usage: 4.4+ KB\n"
     ]
    }
   ],
   "source": [
    "bike_station_locations.info()"
   ]
  },
  {
   "cell_type": "code",
   "execution_count": 14,
   "id": "ae032f7d-10c5-46aa-a0c0-905a73715e25",
   "metadata": {
    "tags": []
   },
   "outputs": [],
   "source": [
    "for index, location_info in random_points.iterrows():\n",
    "    folium.Marker([location_info[\"Latitude\"], location_info[\"Longitude\"]], popup=location_info[\"Name\"]).add_to(map)"
   ]
  },
  {
   "cell_type": "code",
   "execution_count": null,
   "id": "f9e99536-32f8-46b8-a25b-019fbe1fb42b",
   "metadata": {},
   "outputs": [],
   "source": []
  },
  {
   "cell_type": "code",
   "execution_count": null,
   "id": "ec8d3b76-76b1-43f5-812d-2a8776b04fd7",
   "metadata": {},
   "outputs": [],
   "source": []
  },
  {
   "cell_type": "code",
   "execution_count": null,
   "id": "f7384470-d019-4413-8c01-8e8a80af4aa9",
   "metadata": {},
   "outputs": [],
   "source": []
  },
  {
   "cell_type": "code",
   "execution_count": 15,
   "id": "9a55cbe0-bc14-4f7f-9b87-ec422177d365",
   "metadata": {
    "tags": []
   },
   "outputs": [
    {
     "name": "stdout",
     "output_type": "stream",
     "text": [
      "Your map should have been opened in your browser automatically.\n",
      "Press ctrl+c to return.\n"
     ]
    },
    {
     "name": "stderr",
     "output_type": "stream",
     "text": [
      "Use of uninitialized value $file in open at /usr/share/perl5/File/MimeInfo/Applications.pm line 140.\n",
      "Use of uninitialized value $file in open at /usr/share/perl5/File/MimeInfo/Applications.pm line 140.\n",
      "Use of uninitialized value $file in open at /usr/share/perl5/File/MimeInfo/Applications.pm line 140.\n",
      "Use of uninitialized value $file in open at /usr/share/perl5/File/MimeInfo/Applications.pm line 140.\n",
      "Use of uninitialized value in subroutine entry at /usr/share/perl5/File/BaseDir.pm line 105.\n",
      "Use of uninitialized value in subroutine entry at /usr/share/perl5/File/BaseDir.pm line 105.\n",
      "Use of uninitialized value in subroutine entry at /usr/share/perl5/File/BaseDir.pm line 105.\n",
      "Use of uninitialized value in subroutine entry at /usr/share/perl5/File/BaseDir.pm line 105.\n",
      "Use of uninitialized value $file in open at /usr/share/perl5/File/MimeInfo/Applications.pm line 140.\n",
      "Use of uninitialized value $file in open at /usr/share/perl5/File/MimeInfo/Applications.pm line 140.\n",
      "Use of uninitialized value in subroutine entry at /usr/share/perl5/File/BaseDir.pm line 105.\n",
      "Use of uninitialized value in subroutine entry at /usr/share/perl5/File/BaseDir.pm line 105.\n",
      "Use of uninitialized value in subroutine entry at /usr/share/perl5/File/BaseDir.pm line 105.\n",
      "Use of uninitialized value in subroutine entry at /usr/share/perl5/File/BaseDir.pm line 105.\n",
      "Use of uninitialized value $file in open at /usr/share/perl5/File/MimeInfo/Applications.pm line 140.\n",
      "Use of uninitialized value $file in open at /usr/share/perl5/File/MimeInfo/Applications.pm line 140.\n",
      "Use of uninitialized value in subroutine entry at /usr/share/perl5/File/BaseDir.pm line 105.\n",
      "Use of uninitialized value in subroutine entry at /usr/share/perl5/File/BaseDir.pm line 105.\n",
      "Use of uninitialized value in subroutine entry at /usr/share/perl5/File/BaseDir.pm line 105.\n",
      "Use of uninitialized value in subroutine entry at /usr/share/perl5/File/BaseDir.pm line 105.\n"
     ]
    },
    {
     "name": "stdout",
     "output_type": "stream",
     "text": [
      "Opening \"/tmp/folium_r_sgdm6s.html\" with Microsoft Edge (dev)  (text/html)\n",
      "Opening in existing browser session.\n"
     ]
    }
   ],
   "source": [
    "map.show_in_browser()"
   ]
  },
  {
   "cell_type": "code",
   "execution_count": null,
   "id": "2a7e4f04-7e59-4566-a853-4f67a5da312e",
   "metadata": {},
   "outputs": [],
   "source": []
  },
  {
   "cell_type": "code",
   "execution_count": null,
   "id": "2ee96c6e-be0a-43c7-be70-aa50a4c2ba0c",
   "metadata": {},
   "outputs": [],
   "source": []
  },
  {
   "cell_type": "code",
   "execution_count": null,
   "id": "cf4325d6-a032-45e4-bd47-7a9740de3222",
   "metadata": {},
   "outputs": [],
   "source": []
  },
  {
   "cell_type": "code",
   "execution_count": null,
   "id": "67f7cb48-bf3c-4520-8971-ac2c5e6d2aa9",
   "metadata": {},
   "outputs": [],
   "source": []
  },
  {
   "cell_type": "code",
   "execution_count": null,
   "id": "c6e536ce-1cfe-4155-b8a7-5020b3d90787",
   "metadata": {},
   "outputs": [],
   "source": []
  },
  {
   "cell_type": "code",
   "execution_count": null,
   "id": "fc25ac77-6674-4892-a311-14d60846f177",
   "metadata": {},
   "outputs": [],
   "source": []
  },
  {
   "cell_type": "code",
   "execution_count": null,
   "id": "dbfbf755-6f60-476d-97e2-9ecf0d1adf77",
   "metadata": {},
   "outputs": [],
   "source": []
  },
  {
   "cell_type": "code",
   "execution_count": null,
   "id": "b0edfcd9-0f7a-4511-8104-1cdb9e357488",
   "metadata": {},
   "outputs": [],
   "source": []
  }
 ],
 "metadata": {
  "kernelspec": {
   "display_name": "Python 3 (ipykernel)",
   "language": "python",
   "name": "python3"
  },
  "language_info": {
   "codemirror_mode": {
    "name": "ipython",
    "version": 3
   },
   "file_extension": ".py",
   "mimetype": "text/x-python",
   "name": "python",
   "nbconvert_exporter": "python",
   "pygments_lexer": "ipython3",
   "version": "3.8.16"
  }
 },
 "nbformat": 4,
 "nbformat_minor": 5
}
