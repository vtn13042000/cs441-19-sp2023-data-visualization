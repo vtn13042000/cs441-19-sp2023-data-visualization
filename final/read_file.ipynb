{
 "cells": [
  {
   "cell_type": "code",
   "execution_count": 1,
   "metadata": {},
   "outputs": [],
   "source": [
    "# Specify the file path\n",
    "file_path = \"stock_code.txt\"\n"
   ]
  },
  {
   "cell_type": "code",
   "execution_count": 2,
   "metadata": {},
   "outputs": [
    {
     "name": "stdout",
     "output_type": "stream",
     "text": [
      "['META\\n', 'TSLA\\n', 'AMZN\\n', 'GOOG\\n', 'APPL']\n"
     ]
    }
   ],
   "source": [
    "\n",
    "# Create an empty list to store the lines\n",
    "lines = []\n",
    "\n",
    "# Open the file in read mode\n",
    "with open(file_path, \"r\") as file:\n",
    "    # Read all lines and append them to the list\n",
    "    lines = file.readlines()\n",
    "\n",
    "# Close the file\n",
    "\n",
    "# Print the list of lines\n",
    "print(lines)\n"
   ]
  },
  {
   "cell_type": "code",
   "execution_count": 3,
   "metadata": {},
   "outputs": [
    {
     "name": "stdout",
     "output_type": "stream",
     "text": [
      "['META', 'TSLA', 'AMZN', 'GOOG', 'APPL']\n"
     ]
    }
   ],
   "source": []
  },
  {
   "cell_type": "code",
   "execution_count": null,
   "metadata": {},
   "outputs": [],
   "source": []
  }
 ],
 "metadata": {
  "kernelspec": {
   "display_name": "cs441",
   "language": "python",
   "name": "python3"
  },
  "language_info": {
   "codemirror_mode": {
    "name": "ipython",
    "version": 3
   },
   "file_extension": ".py",
   "mimetype": "text/x-python",
   "name": "python",
   "nbconvert_exporter": "python",
   "pygments_lexer": "ipython3",
   "version": "3.8.16"
  },
  "orig_nbformat": 4
 },
 "nbformat": 4,
 "nbformat_minor": 2
}
